{
 "cells": [
  {
   "cell_type": "markdown",
   "metadata": {},
   "source": [
    "# Modelo Segmento Empresarial\n",
    "# Ejercicio de cluster y portafolio ideal\n",
    "# DBSCAN y Rank Agreggation"
   ]
  },
  {
   "cell_type": "code",
   "execution_count": 5,
   "metadata": {},
   "outputs": [],
   "source": [
    "#cluster"
   ]
  },
  {
   "cell_type": "code",
   "execution_count": 1,
   "metadata": {},
   "outputs": [],
   "source": [
    "import pandas as pd\n",
    "import pandas_profiling\n",
    "import seaborn as sns\n",
    "import numpy as np\n",
    "import seaborn as sns\n",
    "import matplotlib.pyplot as plt\n",
    "\n",
    "from sklearn.cluster import OPTICS\n",
    "from sklearn.preprocessing import StandardScaler\n",
    "from sklearn.decomposition import PCA\n",
    "from sklearn.cluster import DBSCAN\n",
    "from sklearn.cluster import KMeans\n",
    "from sklearn import metrics\n",
    "from sklearn.model_selection import train_test_split\n",
    "from sklearn.neighbors import NearestNeighbors\n",
    "from sklearn.metrics import silhouette_samples, silhouette_score\n",
    "from sklearn.cluster import OPTICS, cluster_optics_dbscan\n",
    "from sklearn.linear_model import LinearRegression\n",
    "from math import sin\n",
    "from sklearn.preprocessing import LabelEncoder\n",
    "import rankaggregation as ra\n",
    "\n",
    "pd.set_option(\"display.max_columns\", None)# Varibles Modelo Segmento Empresarial"
   ]
  },
  {
   "cell_type": "code",
   "execution_count": 2,
   "metadata": {},
   "outputs": [],
   "source": [
    "dm_v0 = pd.read_csv(\"empresas_activas.csv\")\n",
    "df2 = pd.read_csv(\"datamart_transaccional_empresarial.csv\", sep = \"|\")"
   ]
  },
  {
   "cell_type": "code",
   "execution_count": 3,
   "metadata": {},
   "outputs": [],
   "source": [
    "df2.SOLD_TO = df2.SOLD_TO.str.replace(\"\\D\", \"\")\n",
    "df2.SOLD_TO = pd.to_numeric(df2.SOLD_TO, errors = \"coerce\")"
   ]
  },
  {
   "cell_type": "code",
   "execution_count": 4,
   "metadata": {},
   "outputs": [],
   "source": [
    "df2 = df2[df2.SEGMENTO_PRODUCTO != \"SUPERMERCADOS\"]\n",
    "df2 = df2[df2.SEGMENTO_PRODUCTO != \"DISPENSACIÓN MEDICAMENTOS\"]\n",
    "df2 = df2[df2.SEGMENTO_PRODUCTO != \"EXHIBICIÓN ESPACIOS SUPERMERCADOS\"]"
   ]
  },
  {
   "cell_type": "code",
   "execution_count": 5,
   "metadata": {},
   "outputs": [
    {
     "data": {
      "text/html": [
       "<div>\n",
       "<style scoped>\n",
       "    .dataframe tbody tr th:only-of-type {\n",
       "        vertical-align: middle;\n",
       "    }\n",
       "\n",
       "    .dataframe tbody tr th {\n",
       "        vertical-align: top;\n",
       "    }\n",
       "\n",
       "    .dataframe thead th {\n",
       "        text-align: right;\n",
       "    }\n",
       "</style>\n",
       "<table border=\"1\" class=\"dataframe\">\n",
       "  <thead>\n",
       "    <tr style=\"text-align: right;\">\n",
       "      <th></th>\n",
       "      <th>id_empresa</th>\n",
       "      <th>razon_social</th>\n",
       "      <th>interlocutor</th>\n",
       "      <th>tipo_identificacion</th>\n",
       "      <th>numero_identificacion</th>\n",
       "      <th>actividad_economica</th>\n",
       "      <th>segmento_piramide1</th>\n",
       "      <th>segmento_piramide2</th>\n",
       "      <th>antiguedad_empresa</th>\n",
       "      <th>localidad_empresa</th>\n",
       "      <th>numero_empleados</th>\n",
       "      <th>moda_estrato</th>\n",
       "      <th>edad_promedio</th>\n",
       "      <th>porcentaje_edad_rango1</th>\n",
       "      <th>porcentaje_edad_rango2</th>\n",
       "      <th>porcentaje_edad_rango3</th>\n",
       "      <th>porcentaje_edad_rango4</th>\n",
       "      <th>porcentaje_edad_rango5</th>\n",
       "      <th>porcentaje_is_hombre</th>\n",
       "      <th>porcentaje_is_mujer</th>\n",
       "      <th>porcentaje_tiene_discapacidad</th>\n",
       "      <th>porcentaje_salario_rango1</th>\n",
       "      <th>porcentaje_salario_rango2</th>\n",
       "      <th>porcentaje_salario_rango3</th>\n",
       "      <th>porcentaje_salario_rango4</th>\n",
       "      <th>porcentaje_salario_rango5</th>\n",
       "      <th>porcentaje_salario_rango6</th>\n",
       "      <th>porcentaje_segmento_poblacional_basico</th>\n",
       "      <th>porcentaje_segmento_poblacional_medio</th>\n",
       "      <th>porcentaje_segmento_poblacional_joven</th>\n",
       "      <th>porcentaje_segmento_poblacional_alto</th>\n",
       "      <th>porcentaje_sin_beneficiarios</th>\n",
       "      <th>porcentaje_tiene_hijos_hombres</th>\n",
       "      <th>porcentaje_tiene_hijos_mujeres</th>\n",
       "      <th>porcentaje_tiene_hermanos</th>\n",
       "      <th>porcentaje_tiene_conyuge</th>\n",
       "      <th>porcentaje_tiene_padre_beneficiario</th>\n",
       "      <th>porcentaje_tiene_madre_beneficiaria</th>\n",
       "      <th>porcentaje_tiene_hijos</th>\n",
       "      <th>porcentaje_PACF</th>\n",
       "      <th>porcentaje_famisanar</th>\n",
       "      <th>porcentaje_estrato_1</th>\n",
       "      <th>porcentaje_estrato_2</th>\n",
       "      <th>porcentaje_estrato_3</th>\n",
       "      <th>porcentaje_estrato_4</th>\n",
       "      <th>porcentaje_estrato_5</th>\n",
       "      <th>porcentaje_estrato_6</th>\n",
       "      <th>porcentaje_estrato_blank</th>\n",
       "      <th>porcentaje_nivel_educativo_Alfabeta</th>\n",
       "      <th>porcentaje_nivel_educativo_Bachillerato</th>\n",
       "      <th>porcentaje_nivel_educativo_Doctorado</th>\n",
       "      <th>porcentaje_nivel_educativo_Ninguno</th>\n",
       "      <th>porcentaje_nivel_educativo_No Formal</th>\n",
       "      <th>porcentaje_nivel_educativo_Postgrado</th>\n",
       "      <th>porcentaje_nivel_educativo_Primaria</th>\n",
       "      <th>porcentaje_nivel_educativo_Profesional</th>\n",
       "      <th>porcentaje_nivel_educativo_Tecnico</th>\n",
       "      <th>porcentaje_nivel_educativo_Tecnologo</th>\n",
       "      <th>porcentaje_nivel_educativo_blank</th>\n",
       "      <th>porcentaje_estado_civil_Casado</th>\n",
       "      <th>porcentaje_estado_civil_Separado</th>\n",
       "      <th>porcentaje_estado_civil_Soltero</th>\n",
       "      <th>porcentaje_estado_civil_Unión Libre</th>\n",
       "      <th>porcentaje_estado_civil_Viudo/a</th>\n",
       "      <th>porcentaje_categoria_afiliacion_A</th>\n",
       "      <th>porcentaje_categoria_afiliacion_B</th>\n",
       "      <th>porcentaje_categoria_afiliacion_C</th>\n",
       "      <th>porcentaje_tipo_contrato01</th>\n",
       "      <th>porcentaje_tipo_contrato02</th>\n",
       "      <th>porcentaje_tipo_contrato_blank</th>\n",
       "      <th>antiguedad_historica_empleados</th>\n",
       "      <th>antiguedad_empresa_actual</th>\n",
       "      <th>beneficiarios_edad_rango1</th>\n",
       "      <th>beneficiarios_edad_rango2</th>\n",
       "      <th>beneficiarios_edad_rango3</th>\n",
       "      <th>beneficiarios_edad_rango4</th>\n",
       "      <th>beneficiarios_edad_rango5</th>\n",
       "      <th>beneficiarios_edad_rango6</th>\n",
       "      <th>beneficiarios_edad_rango7</th>\n",
       "      <th>beneficiarios_edad_rango8</th>\n",
       "      <th>beneficiarios_edad_rango9</th>\n",
       "      <th>beneficiarios_edad_rango10</th>\n",
       "      <th>porcentaje_zch_bcum</th>\n",
       "      <th>porcentaje_zch_rsfmt</th>\n",
       "      <th>porcentaje_zch_rsemt</th>\n",
       "      <th>porcentaje_zch_rsemu</th>\n",
       "      <th>porcentaje_zch_blon</th>\n",
       "      <th>porcentaje_zch_kite</th>\n",
       "      <th>status_riesgo</th>\n",
       "      <th>id_unico_empresa_principal</th>\n",
       "    </tr>\n",
       "  </thead>\n",
       "  <tbody>\n",
       "    <tr>\n",
       "      <th>0</th>\n",
       "      <td>0.0</td>\n",
       "      <td>0.0</td>\n",
       "      <td>0.0</td>\n",
       "      <td>0.0</td>\n",
       "      <td>0.0</td>\n",
       "      <td>0.0</td>\n",
       "      <td>0.974591</td>\n",
       "      <td>0.974591</td>\n",
       "      <td>0.0</td>\n",
       "      <td>0.0</td>\n",
       "      <td>0.0</td>\n",
       "      <td>38.739993</td>\n",
       "      <td>0.0</td>\n",
       "      <td>0.0</td>\n",
       "      <td>0.0</td>\n",
       "      <td>0.0</td>\n",
       "      <td>0.0</td>\n",
       "      <td>0.0</td>\n",
       "      <td>0.0</td>\n",
       "      <td>0.0</td>\n",
       "      <td>0.0</td>\n",
       "      <td>0.0</td>\n",
       "      <td>0.0</td>\n",
       "      <td>0.0</td>\n",
       "      <td>0.0</td>\n",
       "      <td>0.0</td>\n",
       "      <td>0.0</td>\n",
       "      <td>0.0</td>\n",
       "      <td>0.0</td>\n",
       "      <td>0.0</td>\n",
       "      <td>0.0</td>\n",
       "      <td>0.0</td>\n",
       "      <td>0.0</td>\n",
       "      <td>0.0</td>\n",
       "      <td>0.0</td>\n",
       "      <td>0.0</td>\n",
       "      <td>0.0</td>\n",
       "      <td>0.0</td>\n",
       "      <td>0.0</td>\n",
       "      <td>0.0</td>\n",
       "      <td>0.0</td>\n",
       "      <td>0.0</td>\n",
       "      <td>0.0</td>\n",
       "      <td>0.0</td>\n",
       "      <td>0.0</td>\n",
       "      <td>0.0</td>\n",
       "      <td>0.0</td>\n",
       "      <td>0.0</td>\n",
       "      <td>0.0</td>\n",
       "      <td>0.0</td>\n",
       "      <td>0.0</td>\n",
       "      <td>0.0</td>\n",
       "      <td>0.0</td>\n",
       "      <td>0.0</td>\n",
       "      <td>0.0</td>\n",
       "      <td>0.0</td>\n",
       "      <td>0.0</td>\n",
       "      <td>0.0</td>\n",
       "      <td>0.0</td>\n",
       "      <td>0.0</td>\n",
       "      <td>0.0</td>\n",
       "      <td>0.0</td>\n",
       "      <td>0.0</td>\n",
       "      <td>0.0</td>\n",
       "      <td>0.0</td>\n",
       "      <td>0.0</td>\n",
       "      <td>0.0</td>\n",
       "      <td>0.0</td>\n",
       "      <td>0.0</td>\n",
       "      <td>0.0</td>\n",
       "      <td>0.0</td>\n",
       "      <td>0.0</td>\n",
       "      <td>0.0</td>\n",
       "      <td>0.0</td>\n",
       "      <td>0.0</td>\n",
       "      <td>0.0</td>\n",
       "      <td>0.0</td>\n",
       "      <td>0.0</td>\n",
       "      <td>0.0</td>\n",
       "      <td>0.0</td>\n",
       "      <td>0.0</td>\n",
       "      <td>0.0</td>\n",
       "      <td>0.0</td>\n",
       "      <td>0.0</td>\n",
       "      <td>0.0</td>\n",
       "      <td>0.0</td>\n",
       "      <td>0.0</td>\n",
       "      <td>0.0</td>\n",
       "      <td>99.060216</td>\n",
       "      <td>0.974591</td>\n",
       "    </tr>\n",
       "  </tbody>\n",
       "</table>\n",
       "</div>"
      ],
      "text/plain": [
       "   id_empresa  razon_social  interlocutor  tipo_identificacion  \\\n",
       "0         0.0           0.0           0.0                  0.0   \n",
       "\n",
       "   numero_identificacion  actividad_economica  segmento_piramide1  \\\n",
       "0                    0.0                  0.0            0.974591   \n",
       "\n",
       "   segmento_piramide2  antiguedad_empresa  localidad_empresa  \\\n",
       "0            0.974591                 0.0                0.0   \n",
       "\n",
       "   numero_empleados  moda_estrato  edad_promedio  porcentaje_edad_rango1  \\\n",
       "0               0.0     38.739993            0.0                     0.0   \n",
       "\n",
       "   porcentaje_edad_rango2  porcentaje_edad_rango3  porcentaje_edad_rango4  \\\n",
       "0                     0.0                     0.0                     0.0   \n",
       "\n",
       "   porcentaje_edad_rango5  porcentaje_is_hombre  porcentaje_is_mujer  \\\n",
       "0                     0.0                   0.0                  0.0   \n",
       "\n",
       "   porcentaje_tiene_discapacidad  porcentaje_salario_rango1  \\\n",
       "0                            0.0                        0.0   \n",
       "\n",
       "   porcentaje_salario_rango2  porcentaje_salario_rango3  \\\n",
       "0                        0.0                        0.0   \n",
       "\n",
       "   porcentaje_salario_rango4  porcentaje_salario_rango5  \\\n",
       "0                        0.0                        0.0   \n",
       "\n",
       "   porcentaje_salario_rango6  porcentaje_segmento_poblacional_basico  \\\n",
       "0                        0.0                                     0.0   \n",
       "\n",
       "   porcentaje_segmento_poblacional_medio  \\\n",
       "0                                    0.0   \n",
       "\n",
       "   porcentaje_segmento_poblacional_joven  \\\n",
       "0                                    0.0   \n",
       "\n",
       "   porcentaje_segmento_poblacional_alto  porcentaje_sin_beneficiarios  \\\n",
       "0                                   0.0                           0.0   \n",
       "\n",
       "   porcentaje_tiene_hijos_hombres  porcentaje_tiene_hijos_mujeres  \\\n",
       "0                             0.0                             0.0   \n",
       "\n",
       "   porcentaje_tiene_hermanos  porcentaje_tiene_conyuge  \\\n",
       "0                        0.0                       0.0   \n",
       "\n",
       "   porcentaje_tiene_padre_beneficiario  porcentaje_tiene_madre_beneficiaria  \\\n",
       "0                                  0.0                                  0.0   \n",
       "\n",
       "   porcentaje_tiene_hijos  porcentaje_PACF  porcentaje_famisanar  \\\n",
       "0                     0.0              0.0                   0.0   \n",
       "\n",
       "   porcentaje_estrato_1  porcentaje_estrato_2  porcentaje_estrato_3  \\\n",
       "0                   0.0                   0.0                   0.0   \n",
       "\n",
       "   porcentaje_estrato_4  porcentaje_estrato_5  porcentaje_estrato_6  \\\n",
       "0                   0.0                   0.0                   0.0   \n",
       "\n",
       "   porcentaje_estrato_blank  porcentaje_nivel_educativo_Alfabeta  \\\n",
       "0                       0.0                                  0.0   \n",
       "\n",
       "   porcentaje_nivel_educativo_Bachillerato  \\\n",
       "0                                      0.0   \n",
       "\n",
       "   porcentaje_nivel_educativo_Doctorado  porcentaje_nivel_educativo_Ninguno  \\\n",
       "0                                   0.0                                 0.0   \n",
       "\n",
       "   porcentaje_nivel_educativo_No Formal  porcentaje_nivel_educativo_Postgrado  \\\n",
       "0                                   0.0                                   0.0   \n",
       "\n",
       "   porcentaje_nivel_educativo_Primaria  \\\n",
       "0                                  0.0   \n",
       "\n",
       "   porcentaje_nivel_educativo_Profesional  porcentaje_nivel_educativo_Tecnico  \\\n",
       "0                                     0.0                                 0.0   \n",
       "\n",
       "   porcentaje_nivel_educativo_Tecnologo  porcentaje_nivel_educativo_blank  \\\n",
       "0                                   0.0                               0.0   \n",
       "\n",
       "   porcentaje_estado_civil_Casado  porcentaje_estado_civil_Separado  \\\n",
       "0                             0.0                               0.0   \n",
       "\n",
       "   porcentaje_estado_civil_Soltero  porcentaje_estado_civil_Unión Libre  \\\n",
       "0                              0.0                                  0.0   \n",
       "\n",
       "   porcentaje_estado_civil_Viudo/a  porcentaje_categoria_afiliacion_A  \\\n",
       "0                              0.0                                0.0   \n",
       "\n",
       "   porcentaje_categoria_afiliacion_B  porcentaje_categoria_afiliacion_C  \\\n",
       "0                                0.0                                0.0   \n",
       "\n",
       "   porcentaje_tipo_contrato01  porcentaje_tipo_contrato02  \\\n",
       "0                         0.0                         0.0   \n",
       "\n",
       "   porcentaje_tipo_contrato_blank  antiguedad_historica_empleados  \\\n",
       "0                             0.0                             0.0   \n",
       "\n",
       "   antiguedad_empresa_actual  beneficiarios_edad_rango1  \\\n",
       "0                        0.0                        0.0   \n",
       "\n",
       "   beneficiarios_edad_rango2  beneficiarios_edad_rango3  \\\n",
       "0                        0.0                        0.0   \n",
       "\n",
       "   beneficiarios_edad_rango4  beneficiarios_edad_rango5  \\\n",
       "0                        0.0                        0.0   \n",
       "\n",
       "   beneficiarios_edad_rango6  beneficiarios_edad_rango7  \\\n",
       "0                        0.0                        0.0   \n",
       "\n",
       "   beneficiarios_edad_rango8  beneficiarios_edad_rango9  \\\n",
       "0                        0.0                        0.0   \n",
       "\n",
       "   beneficiarios_edad_rango10  porcentaje_zch_bcum  porcentaje_zch_rsfmt  \\\n",
       "0                         0.0                  0.0                   0.0   \n",
       "\n",
       "   porcentaje_zch_rsemt  porcentaje_zch_rsemu  porcentaje_zch_blon  \\\n",
       "0                   0.0                   0.0                  0.0   \n",
       "\n",
       "   porcentaje_zch_kite  status_riesgo  id_unico_empresa_principal  \n",
       "0                  0.0      99.060216                    0.974591  "
      ]
     },
     "execution_count": 5,
     "metadata": {},
     "output_type": "execute_result"
    }
   ],
   "source": [
    "dm_v0 = dm_v0.dropna(thresh = 39)\n",
    "dm_v0 = dm_v0.drop(dm_v0[dm_v0.id_empresa.isna()].index)\n",
    "\n",
    "pd.DataFrame(dm_v0.isna().sum()/dm_v0.shape[0] * 100).transpose()"
   ]
  },
  {
   "cell_type": "code",
   "execution_count": 6,
   "metadata": {},
   "outputs": [],
   "source": [
    "dm_v0.moda_estrato.value_counts(dropna= False)\n",
    "dm_v0.moda_estrato = dm_v0.moda_estrato.map({\"estrato_1\": 1, \"estrato_2\": 2, \"estrato_3\": 3, \"estrato_4\": 4, \"estrato_5\": 5, \"estrato_6\": 6})\n",
    "dm_v0.moda_estrato = pd.to_numeric(dm_v0.moda_estrato, errors = \"coerce\")\n",
    "dm_v0.moda_estrato = dm_v0.moda_estrato.fillna(dm_v0.moda_estrato.mean())"
   ]
  },
  {
   "cell_type": "code",
   "execution_count": 7,
   "metadata": {},
   "outputs": [],
   "source": [
    "dm_id = dm_v0.iloc[:,0]"
   ]
  },
  {
   "cell_type": "code",
   "execution_count": 8,
   "metadata": {},
   "outputs": [],
   "source": [
    "dm_v0 = dm_v0[[\"actividad_economica\", \"antiguedad_empresa\", \"numero_empleados\", \"moda_estrato\", \"edad_promedio\", \"antiguedad_historica_empleados\", \"porcentaje_segmento_poblacional_basico\", \"porcentaje_segmento_poblacional_medio\", \"porcentaje_segmento_poblacional_joven\", \"porcentaje_segmento_poblacional_alto\", \"porcentaje_nivel_educativo_Alfabeta\", \"porcentaje_nivel_educativo_Bachillerato\", \"porcentaje_nivel_educativo_Doctorado\", \"porcentaje_nivel_educativo_Ninguno\"]]"
   ]
  },
  {
   "cell_type": "code",
   "execution_count": 9,
   "metadata": {},
   "outputs": [],
   "source": [
    "dm_v0_num = dm_v0.select_dtypes(exclude= [\"object\"])"
   ]
  },
  {
   "cell_type": "code",
   "execution_count": 10,
   "metadata": {},
   "outputs": [
    {
     "name": "stderr",
     "output_type": "stream",
     "text": [
      "/usr/local/lib/python3.6/site-packages/ipykernel_launcher.py:5: SettingWithCopyWarning: \n",
      "A value is trying to be set on a copy of a slice from a DataFrame\n",
      "\n",
      "See the caveats in the documentation: http://pandas.pydata.org/pandas-docs/stable/indexing.html#indexing-view-versus-copy\n",
      "  \"\"\"\n"
     ]
    }
   ],
   "source": [
    "np.random.RandomState(42)\n",
    "\n",
    "dm_v0_num.edad_promedio[(dm_v0_num.edad_promedio == 0.0) | (dm_v0_num.edad_promedio == np.nan)] = np.random.normal(np.mean(dm_v0_num.edad_promedio[dm_v0_num.edad_promedio > 0]), \\\n",
    "                                                                                                                 np.std(dm_v0_num.edad_promedio[dm_v0_num.edad_promedio > 0]), \\\n",
    "                                                                                                                 len(dm_v0_num.edad_promedio[(dm_v0_num.edad_promedio == 0) | (dm_v0_num.edad_promedio == np.nan)]))"
   ]
  },
  {
   "cell_type": "code",
   "execution_count": 11,
   "metadata": {},
   "outputs": [
    {
     "name": "stderr",
     "output_type": "stream",
     "text": [
      "/usr/local/lib/python3.6/site-packages/ipykernel_launcher.py:4: SettingWithCopyWarning: \n",
      "A value is trying to be set on a copy of a slice from a DataFrame\n",
      "\n",
      "See the caveats in the documentation: http://pandas.pydata.org/pandas-docs/stable/indexing.html#indexing-view-versus-copy\n",
      "  after removing the cwd from sys.path.\n"
     ]
    }
   ],
   "source": [
    "np.random.RandomState(42)\n",
    "\n",
    "dm_v0_num.antiguedad_empresa[(dm_v0_num.antiguedad_empresa == 0.0) | (dm_v0_num.antiguedad_empresa == np.nan)] = np.random.chisquare(np.mean(dm_v0_num.antiguedad_empresa[dm_v0_num.antiguedad_empresa > 0]),\n",
    "                                                                                                                 len(dm_v0_num.antiguedad_empresa[(dm_v0_num.antiguedad_empresa == 0) | (dm_v0_num.antiguedad_empresa == np.nan)]))"
   ]
  },
  {
   "cell_type": "code",
   "execution_count": 12,
   "metadata": {},
   "outputs": [
    {
     "name": "stderr",
     "output_type": "stream",
     "text": [
      "/usr/local/lib/python3.6/site-packages/ipykernel_launcher.py:4: SettingWithCopyWarning: \n",
      "A value is trying to be set on a copy of a slice from a DataFrame\n",
      "\n",
      "See the caveats in the documentation: http://pandas.pydata.org/pandas-docs/stable/indexing.html#indexing-view-versus-copy\n",
      "  after removing the cwd from sys.path.\n"
     ]
    }
   ],
   "source": [
    "np.random.RandomState(42)\n",
    "\n",
    "dm_v0_num.antiguedad_historica_empleados[(dm_v0_num.antiguedad_historica_empleados == 0.0) | (dm_v0_num.antiguedad_historica_empleados == np.nan)] = np.random.chisquare(np.mean(dm_v0_num.antiguedad_historica_empleados[dm_v0_num.antiguedad_historica_empleados > 0]),\n",
    "                                                                                                                 len(dm_v0_num.antiguedad_historica_empleados[(dm_v0_num.antiguedad_historica_empleados == 0) | (dm_v0_num.antiguedad_historica_empleados == np.nan)]))"
   ]
  },
  {
   "cell_type": "code",
   "execution_count": 13,
   "metadata": {},
   "outputs": [],
   "source": [
    "dm_pred = StandardScaler().fit_transform(dm_v0_num)"
   ]
  },
  {
   "cell_type": "code",
   "execution_count": 14,
   "metadata": {},
   "outputs": [
    {
     "data": {
      "image/png": "[encoded data removed]",
      "text/plain": [
       "<Figure size 864x648 with 1 Axes>"
      ]
     },
     "metadata": {
      "needs_background": "light"
     },
     "output_type": "display_data"
    }
   ],
   "source": [
    "## Analysis for choosing epsilon space\n",
    "\n",
    "neigh = NearestNeighbors(n_neighbors=100)\n",
    "nbrs = neigh.fit(dm_pred)\n",
    "distances, indices = nbrs.kneighbors(dm_pred)\n",
    "\n",
    "distances = np.sort(distances, axis=0)\n",
    "distances = distances[:,1]\n",
    "\n",
    "plt.figure(figsize=(12, 9))\n",
    "plt.plot(distances)\n",
    "plt.title(\"Distancia por punto\")\n",
    "plt.show()"
   ]
  },
  {
   "cell_type": "code",
   "execution_count": 23,
   "metadata": {},
   "outputs": [
    {
     "data": {
      "image/png": "[encoded data removed]",
      "text/plain": [
       "<Figure size 432x288 with 1 Axes>"
      ]
     },
     "metadata": {
      "needs_background": "light"
     },
     "output_type": "display_data"
    }
   ],
   "source": [
    "n_clusters = []\n",
    "n_noise = []\n",
    "\n",
    "for i in np.arange(50.0, 60.0):\n",
    "    db = DBSCAN(eps=i).fit(dm_v0_num)\n",
    "    core_samples_mask = np.zeros_like(db.labels_, dtype=bool)\n",
    "    core_samples_mask[db.core_sample_indices_] = True\n",
    "    labels = db.labels_\n",
    "\n",
    "\n",
    "    n_clusters_ = len(set(labels)) - (1 if -1 in labels else 0)\n",
    "    n_noise_ = list(labels).count(-1)\n",
    "    \n",
    "    n_clusters.append(n_clusters_)\n",
    "    n_noise.append(n_noise_)\n",
    "    \n",
    "    ##print('DBSCAN with epsilon ' + str(i) + ': Estimated number of clusters: %d' % n_clusters_)\n",
    "    ##print('DBSCAN: Estimated number of noise points: %d' % n_noise_, \"\\n\\n\\n\")\n",
    "    \n",
    "\n",
    "ax1 = plt.plot(n_clusters)\n",
    "#ax2 = plt.plot(n_noise)\n",
    "plt.show()"
   ]
  },
  {
   "cell_type": "code",
   "execution_count": 16,
   "metadata": {},
   "outputs": [
    {
     "name": "stdout",
     "output_type": "stream",
     "text": [
      "DBSCAN: Estimated number of clusters: 24\n",
      "DBSCAN: Estimated number of noise points: 483\n"
     ]
    }
   ],
   "source": [
    "db = DBSCAN(eps= 22).fit(dm_v0_num)\n",
    "core_samples_mask = np.zeros_like(db.labels_, dtype=bool)\n",
    "core_samples_mask[db.core_sample_indices_] = True\n",
    "labels = db.labels_\n",
    "\n",
    "\n",
    "n_clusters_ = len(set(labels)) - (1 if -1 in labels else 0)\n",
    "n_noise_ = list(labels).count(-1)\n",
    "    \n",
    "n_clusters.append(n_clusters_)\n",
    "n_noise.append(n_noise_)\n",
    "    \n",
    "print('DBSCAN: Estimated number of clusters: %d' % n_clusters_)\n",
    "print('DBSCAN: Estimated number of noise points: %d' % n_noise_)"
   ]
  },
  {
   "cell_type": "code",
   "execution_count": 18,
   "metadata": {},
   "outputs": [],
   "source": [
    "dm_cluster = pd.concat([dm_v0, pd.Series(db.labels_)], axis = 1)\n",
    "dm_cluster = dm_cluster.rename(columns = {dm_cluster.columns[-1]:'cluster_dbscan'})"
   ]
  },
  {
   "cell_type": "code",
   "execution_count": 19,
   "metadata": {},
   "outputs": [],
   "source": [
    "dm_cluster = pd.concat([dm_id, dm_cluster], axis=1)"
   ]
  },
  {
   "cell_type": "code",
   "execution_count": 20,
   "metadata": {},
   "outputs": [],
   "source": [
    "dm_cluster = dm_cluster.merge(df2, left_on='id_empresa', right_on='SOLD_TO', how = \"inner\")"
   ]
  },
  {
   "cell_type": "code",
   "execution_count": 21,
   "metadata": {},
   "outputs": [],
   "source": [
    "dm_cluster.to_csv(\"Epsilon_22.csv\")"
   ]
  },
  {
   "cell_type": "code",
   "execution_count": 22,
   "metadata": {},
   "outputs": [],
   "source": [
    "dm_cluster_no_duplicates = dm_cluster.drop_duplicates(subset = \"id_empresa\") "
   ]
  },
  {
   "cell_type": "code",
   "execution_count": 23,
   "metadata": {},
   "outputs": [
    {
     "data": {
      "text/plain": [
       "array([ 0, -1,  1,  2,  3,  5,  6,  8,  4,  7,  9, 18, 19, 17, 11, 12, 13,\n",
       "       10, 22, 14, 24, 15, 16, 23, 21, 20])"
      ]
     },
     "execution_count": 23,
     "metadata": {},
     "output_type": "execute_result"
    }
   ],
   "source": [
    "dm_cluster_no_duplicates.cluster_dbscan.unique()"
   ]
  },
  {
   "cell_type": "code",
   "execution_count": 24,
   "metadata": {},
   "outputs": [],
   "source": [
    "dm_cluster_no_duplicates.to_csv(\"No_duplicates.csv\")"
   ]
  },
  {
   "cell_type": "markdown",
   "metadata": {},
   "source": [
    "# Portafolio"
   ]
  },
  {
   "cell_type": "markdown",
   "metadata": {},
   "source": [
    "## Rank aggregation:\n",
    "\n",
    "Para que el RA funcione, hay que hacer varios preparativos. Por un lado hay que crear las listas de productos. Sin embargo, estas listas deben estar organizadas de acuerdo a un criterio. Este algoritmo espera que haya un \"ranking\", i.e. que el índice cumpla una función ordinal.\n",
    "\n",
    "\n",
    "Para eso, haremos un groupby de cada producto por empresa donde se cuenten las veces que aparece cada producto. Esto nos dará una regla interesante: los productos estarán ordenados por frecuencia."
   ]
  },
  {
   "cell_type": "code",
   "execution_count": 25,
   "metadata": {},
   "outputs": [],
   "source": [
    "training = dm_cluster[[\"NOMBRE_PRODUCTO\", \"id_empresa\", \"cluster_dbscan\"]]"
   ]
  },
  {
   "cell_type": "code",
   "execution_count": 26,
   "metadata": {},
   "outputs": [],
   "source": [
    "def rankAggProd(df):\n",
    "    \"\"\"\n",
    "    Esta función recibe el DataFrame indexado con id_empresas, cluster_dbscan, y NOMBRE_PRODUCTO. Con ello, hace un Rank\n",
    "    Aggregation por cluster, ordenando los productos por empresa de acuerdo a la frecuencia de transacciones en la tabla\n",
    "    Transaccional. Luego Pasa el Rank Aggregation con estas numerosas listas y guarda los resultados en un diccionario.\n",
    "    \"\"\"\n",
    "    dm_rank = df.groupby([\"id_empresa\", \"cluster_dbscan\", \"NOMBRE_PRODUCTO\"]).size().reset_index(name=\"Freq\")\n",
    "    cluster_list = dm_rank.cluster_dbscan.unique()\n",
    "    ranks_x_cluster = {}\n",
    "\n",
    "    for cluster in cluster_list:\n",
    "        agg = ra.RankAggregator()\n",
    "        empresa_list = dm_rank[dm_rank.cluster_dbscan == cluster][\"id_empresa\"].unique()\n",
    "        prods_x_empresa = []\n",
    "        for empresa in empresa_list:\n",
    "            dm_prod = dm_rank[(dm_rank.cluster_dbscan == cluster) & (dm_rank.id_empresa == empresa)][[\"NOMBRE_PRODUCTO\", \"Freq\"]].sort_values(by = [\"Freq\"], ascending = False)\n",
    "            prod_list = list(dm_prod.NOMBRE_PRODUCTO)\n",
    "            prods_x_empresa.append(prod_list)\n",
    "        ranked_prods = agg.instant_runoff(prods_x_empresa)\n",
    "        ranks_x_cluster[cluster] = ranked_prods\n",
    "    return ranks_x_cluster"
   ]
  },
  {
   "cell_type": "code",
   "execution_count": 27,
   "metadata": {},
   "outputs": [],
   "source": [
    "## Aqui pasa la magia\n",
    "ranks_x_cluster = rankAggProd(training)"
   ]
  },
  {
   "cell_type": "code",
   "execution_count": 33,
   "metadata": {},
   "outputs": [],
   "source": [
    "list = [(k, v) for k, v in ranks_x_cluster.items()] \n",
    "df_f = pd.DataFrame(list)"
   ]
  },
  {
   "cell_type": "code",
   "execution_count": 35,
   "metadata": {},
   "outputs": [],
   "source": [
    "df_f.to_csv(\"df_f.csv\")"
   ]
  },
  {
   "cell_type": "code",
   "execution_count": null,
   "metadata": {},
   "outputs": [],
   "source": []
  },
  {
   "cell_type": "code",
   "execution_count": null,
   "metadata": {},
   "outputs": [],
   "source": []
  }
 ],
 "metadata": {
  "kernelspec": {
   "display_name": "Python 3",
   "language": "python",
   "name": "python3"
  },
  "language_info": {
   "codemirror_mode": {
    "name": "ipython",
    "version": 3
   },
   "file_extension": ".py",
   "mimetype": "text/x-python",
   "name": "python",
   "nbconvert_exporter": "python",
   "pygments_lexer": "ipython3",
   "version": "3.7.6"
  }
 },
 "nbformat": 4,
 "nbformat_minor": 4
}
